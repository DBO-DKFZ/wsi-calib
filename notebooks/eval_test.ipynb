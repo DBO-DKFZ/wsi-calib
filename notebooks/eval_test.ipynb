{
 "cells": [
  {
   "cell_type": "code",
   "execution_count": null,
   "metadata": {},
   "outputs": [],
   "source": [
    "import os\n",
    "import sys\n",
    "from pathlib import Path\n",
    "\n",
    "from PIL import Image, ImageOps\n",
    "import numpy as np\n",
    "import matplotlib.pyplot as plt\n",
    "from matplotlib import rcParams\n",
    "import torch\n",
    "from torchmetrics.functional import accuracy\n",
    "\n",
    "import pandas as pd\n",
    "import seaborn as sns\n",
    "\n",
    "if not os.path.abspath(\"../\") in sys.path:\n",
    "    sys.path.insert(0, os.path.abspath(\"../\"))\n",
    "from src.eval.visualizations_base import create_runs_from_folder, extract_results\n",
    "from src.eval.plot_functions import plot_roc_curves, compute_metrics, build_attention_img, overlay_attention\n",
    "from src.datamodules.datasets.histo import plot_coords\n",
    "\n",
    "%load_ext autoreload\n",
    "%autoreload 2"
   ]
  },
  {
   "cell_type": "code",
   "execution_count": null,
   "metadata": {},
   "outputs": [],
   "source": [
    "# Set matplotlib rcParams\n",
    "rcParams[\"font.size\"] = 14\n",
    "rcParams[\"axes.labelsize\"] = 14\n",
    "rcParams[\"axes.titlesize\"] = 14\n",
    "rcParams[\"xtick.labelsize\"] = 12\n",
    "rcParams[\"ytick.labelsize\"] = 12\n",
    "rcParams[\"legend.fontsize\"] = 12\n",
    "rcParams[\"legend.title_fontsize\"] = 12"
   ]
  },
  {
   "cell_type": "markdown",
   "metadata": {},
   "source": [
    "## Load Experiments"
   ]
  },
  {
   "cell_type": "code",
   "execution_count": null,
   "metadata": {},
   "outputs": [],
   "source": [
    "RUN_DIR = Path(os.environ[\"EXPERIMENT_LOCATION\"])\n",
    "CONFIG_PATH = \"logs/config.yaml\"\n",
    "SAVE_PATH = Path.cwd().parent / \"report\""
   ]
  },
  {
   "cell_type": "code",
   "execution_count": null,
   "metadata": {},
   "outputs": [],
   "source": [
    "runs = [\n",
    "    *create_runs_from_folder(\"slide-calib_512/mco-clam\", run_dir=RUN_DIR, config_path=CONFIG_PATH, name=\"1 CLAM ImageNet\"),\n",
    "    *create_runs_from_folder(\"slide-calib_512/mco-clam-ciga\", run_dir=RUN_DIR, config_path=CONFIG_PATH, name=\"2 CLAM Ciga\"),\n",
    "    *create_runs_from_folder(\"slide-calib_512/mco-transformer\", run_dir=RUN_DIR, config_path=CONFIG_PATH, name=\"3 Transformer ImageNet\"),\n",
    "    *create_runs_from_folder(\"slide-calib_512/mco-transformer-ciga\", run_dir=RUN_DIR, config_path=CONFIG_PATH, name=\"4 Transformer Ciga\"),\n",
    "    *create_runs_from_folder(\"slide-calib_512/mco-gnn\", run_dir=RUN_DIR, config_path=CONFIG_PATH, name=\"5 GNN ImageNet\"),\n",
    "    *create_runs_from_folder(\"slide-calib_512/mco-gnn-ciga\", run_dir=RUN_DIR, config_path=CONFIG_PATH, name=\"6 GNN Ciga\"),\n",
    "]\n",
    "print(\"Total number of runs: \", len(runs))"
   ]
  },
  {
   "cell_type": "markdown",
   "metadata": {},
   "source": [
    "## Evaluate Performance"
   ]
  },
  {
   "cell_type": "code",
   "execution_count": null,
   "metadata": {},
   "outputs": [],
   "source": [
    "grid = compute_metrics(\n",
    "    runs,\n",
    "    split=[\"test_id\", \"test_ood\"],\n",
    "    metrics=[\"AUROC\", \"ECE\"],\n",
    "    plot_hue=\"method\",\n",
    "    custom_legend=True,\n",
    "    # figname=\"../report/figures/metrics-512.pdf\",\n",
    "    # tabname=\"../report/tables/metrics-512-ciga.tex\"\n",
    ")"
   ]
  },
  {
   "cell_type": "markdown",
   "metadata": {},
   "source": [
    "## Evaluate Calibration"
   ]
  },
  {
   "cell_type": "code",
   "execution_count": null,
   "metadata": {},
   "outputs": [],
   "source": [
    "# Compare ECE implementations\n",
    "from torchmetrics.classification import CalibrationError as TM_ECE\n",
    "from src.metrics.calibration_error import CalibrationError as Custom_ECE\n",
    "\n",
    "\n",
    "def plot_runs(indices: list[int]):\n",
    "    fig, axs = plt.subplots(1, len(indices), figsize=(12, 3.2))\n",
    "    for i in range(len(indices)):\n",
    "        custom_ece = Custom_ECE(n_bins=10, norm=\"l1\")\n",
    "        run = runs[indices[i]]\n",
    "        preds = run.test_id_preds\n",
    "        Y_prob, labels = preds[\"softmax\"], preds[\"label\"]\n",
    "        custom_ece.update(Y_prob[:, 1], labels)\n",
    "        # print(custom_ece.compute().item())\n",
    "        if i == 0:\n",
    "            axs[i] = custom_ece.plot_reliability_diagram(custom_ax=axs[i], title=run.name, show_legend=True)\n",
    "        else:\n",
    "            axs[i] = custom_ece.plot_reliability_diagram(custom_ax=axs[i], title=run.name, show_legend=False)\n",
    "\n",
    "\n",
    "plot_runs([0, 11, 20])  # One regular run for each model architecture\n",
    "# plt.savefig(\"../report/figures/reliability_imagenet.pdf\", bbox_inches=\"tight\")\n",
    "# plot_runs([5, 15, 25])  # The correspondig temperture-scaled run for each model architecture\n",
    "# plt.savefig(\"../report/figures/reliability_ts.pdf\", bbox_inches=\"tight\")\n",
    "plt.show()"
   ]
  },
  {
   "cell_type": "code",
   "execution_count": null,
   "metadata": {},
   "outputs": [],
   "source": []
  }
 ],
 "metadata": {
  "kernelspec": {
   "display_name": "slidecalib",
   "language": "python",
   "name": "python3"
  },
  "language_info": {
   "codemirror_mode": {
    "name": "ipython",
    "version": 3
   },
   "file_extension": ".py",
   "mimetype": "text/x-python",
   "name": "python",
   "nbconvert_exporter": "python",
   "pygments_lexer": "ipython3",
   "version": "3.9.18"
  }
 },
 "nbformat": 4,
 "nbformat_minor": 2
}
